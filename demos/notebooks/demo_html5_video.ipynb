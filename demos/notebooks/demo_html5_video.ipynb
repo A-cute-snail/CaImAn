{
 "cells": [
  {
   "cell_type": "code",
   "execution_count": 1,
   "metadata": {},
   "outputs": [],
   "source": [
    "import caiman as cm\n",
    "from caiman.utils.utils import download_demo\n",
    "from IPython.display import display, HTML, Javascript\n",
    "import ipywidgets"
   ]
  },
  {
   "cell_type": "code",
   "execution_count": 2,
   "metadata": {},
   "outputs": [
    {
     "name": "stdout",
     "output_type": "stream",
     "text": [
      "File already downloaded\n",
      ".mp4\n"
     ]
    }
   ],
   "source": [
    "input = cm.load(download_demo('Sue_2x_3000_40_-46.tif'))\n",
    "output = 'video.mp4'\n",
    "input.save(output)"
   ]
  },
  {
   "cell_type": "code",
   "execution_count": 3,
   "metadata": {},
   "outputs": [
    {
     "data": {
      "text/html": [
       "<video width=\"170\" height=\"170\" controls id=\"vid\"><source src=\"video.mp4\" type=\"video/mp4\"></video>"
      ],
      "text/plain": [
       "<IPython.core.display.HTML object>"
      ]
     },
     "metadata": {},
     "output_type": "display_data"
    }
   ],
   "source": [
    "display(HTML('<video width=\"{}\" height=\"{}\" controls id=\"vid\"><source src=\"{}\" type=\"video/mp4\"></video>'.format(input.shape[2], input.shape[1], output)))"
   ]
  },
  {
   "cell_type": "code",
   "execution_count": 4,
   "metadata": {},
   "outputs": [
    {
     "data": {
      "text/html": [
       "<input id=\"pos\" type=\"number\" step=\"1\" min=\"0\" max=\"2999\" value=\"0\">"
      ],
      "text/plain": [
       "<IPython.core.display.HTML object>"
      ]
     },
     "metadata": {},
     "output_type": "display_data"
    }
   ],
   "source": [
    "display(HTML('<input id=\"pos\" type=\"number\" step=\"1\" min=\"0\" max=\"{}\" value=\"0\">'.format(input.shape[0]-1)))"
   ]
  },
  {
   "cell_type": "code",
   "execution_count": 7,
   "metadata": {},
   "outputs": [
    {
     "data": {
      "application/javascript": [
       "\n",
       "var vid = document.getElementById('vid');\n",
       "var pos = document.getElementById('pos');\n",
       "var rate = 30.0;\n",
       "pos.onchange = function() { vid.currentTime = pos.valueAsNumber / rate; };\n",
       "vid.ontimeupdate = function() { pos.valueAsNumber = Math.round(vid.currentTime * rate); };\n"
      ],
      "text/plain": [
       "<IPython.core.display.Javascript object>"
      ]
     },
     "metadata": {},
     "output_type": "display_data"
    }
   ],
   "source": [
    "display(Javascript('''\n",
    "var vid = document.getElementById('vid');\n",
    "var pos = document.getElementById('pos');\n",
    "var rate = '''+str(input.fr)+''';\n",
    "pos.onchange = function() { vid.currentTime = pos.valueAsNumber / rate; };\n",
    "vid.ontimeupdate = function() { pos.valueAsNumber = Math.round(vid.currentTime * rate); };\n",
    "'''))"
   ]
  },
  {
   "cell_type": "code",
   "execution_count": null,
   "metadata": {},
   "outputs": [],
   "source": []
  }
 ],
 "metadata": {
  "kernelspec": {
   "display_name": "Python 3",
   "language": "python",
   "name": "python3"
  },
  "language_info": {
   "codemirror_mode": {
    "name": "ipython",
    "version": 3
   },
   "file_extension": ".py",
   "mimetype": "text/x-python",
   "name": "python",
   "nbconvert_exporter": "python",
   "pygments_lexer": "ipython3",
   "version": "3.6.3"
  }
 },
 "nbformat": 4,
 "nbformat_minor": 2
}
