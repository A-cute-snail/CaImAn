{
 "cells": [
  {
   "cell_type": "code",
   "execution_count": 1,
   "metadata": {
    "extensions": {
     "jupyter_dashboards": {
      "version": 1,
      "views": {
       "grid_default": {
        "hidden": true
       },
       "report_default": {
        "hidden": true
       }
      }
     }
    },
    "nbpresent": {
     "id": "790f1d6b-6a21-4009-85ef-31964fcfa7b1"
    }
   },
   "outputs": [
    {
     "name": "stderr",
     "output_type": "stream",
     "text": [
      "/Users/brandonbrown/anaconda3/envs/caiman/lib/python3.6/site-packages/h5py/__init__.py:34: FutureWarning: Conversion of the second argument of issubdtype from `float` to `np.floating` is deprecated. In future, it will be treated as `np.float64 == np.dtype(float).type`.\n",
      "  from ._conv import register_converters as _register_converters\n"
     ]
    }
   ],
   "source": [
    "import sys\n",
    "sys.path.append('src/')\n",
    "from caiman_interface import *"
   ]
  },
  {
   "cell_type": "markdown",
   "metadata": {
    "extensions": {
     "jupyter_dashboards": {
      "version": 1,
      "views": {
       "grid_default": {
        "col": 0,
        "height": 2,
        "hidden": false,
        "row": 0,
        "width": 12
       },
       "report_default": {
        "hidden": false
       }
      }
     }
    }
   },
   "source": [
    "# <em>Ca</em><font color=\"grey\">lcium</font> <em>Im</em><font color=\"grey\">aging</font> <em>An</em><font color=\"grey\">alysis</font>\n",
    "### Jupyter Notebook Interface (alpha version)"
   ]
  },
  {
   "cell_type": "markdown",
   "metadata": {
    "extensions": {
     "jupyter_dashboards": {
      "version": 1,
      "views": {
       "grid_default": {},
       "report_default": {
        "hidden": false
       }
      }
     }
    }
   },
   "source": [
    "##### Manage Context\n",
    "The context is the data that is saved during each step of the analysis. You can save all of your work as a `context` file with the extension `.pkl`. For example, if you finish the CNMF-E analysis step, you can save your context, and then re-load it later to view the results interactively here. Please note the context files are large, so only save if necessary."
   ]
  },
  {
   "cell_type": "code",
   "execution_count": 2,
   "metadata": {
    "scrolled": false
   },
   "outputs": [
    {
     "data": {
      "application/vnd.jupyter.widget-view+json": {
       "model_id": "02a93f44846f4c36b5b90f7ea9e1a4fb",
       "version_major": 2,
       "version_minor": 0
      },
      "text/plain": [
       "VBox(children=(HTML(value='Idle', description='<b>Status:</b>', layout=Layout(width='90%')), Tab(children=(VBo…"
      ]
     },
     "metadata": {},
     "output_type": "display_data"
    }
   ],
   "source": [
    "%matplotlib qt\n",
    "display(app_ui)"
   ]
  },
  {
   "cell_type": "code",
   "execution_count": 5,
   "metadata": {},
   "outputs": [
    {
     "name": "stdout",
     "output_type": "stream",
     "text": [
      "mmap\n"
     ]
    },
    {
     "data": {
      "text/plain": [
       "movie([[[       nan, 1168.6599 ,  996.9688 , ..., 1076.4502 ,\n",
       "          996.6896 ,        nan],\n",
       "        [       nan, 1019.29443, 1255.6759 , ..., 1295.679  ,\n",
       "         1191.0255 ,        nan],\n",
       "        [       nan,  834.5953 ,  893.5325 , ..., 1268.2166 ,\n",
       "         1371.4775 ,        nan],\n",
       "        ...,\n",
       "        [       nan,  850.0836 ,  765.3652 , ...,  590.     ,\n",
       "          695.1835 ,  992.102  ],\n",
       "        [       nan, 1067.3871 ,  957.55597, ...,  755.50714,\n",
       "          912.5204 ,  968.3345 ],\n",
       "        [       nan,        nan,        nan, ...,        nan,\n",
       "                nan,        nan]],\n",
       "\n",
       "       [[ 839.9296 ,  873.42365,  920.4575 , ..., 1055.8853 ,\n",
       "         1110.6993 ,        nan],\n",
       "        [ 959.0498 ,  956.4267 ,  854.70636, ...,  847.4292 ,\n",
       "         1015.5033 ,        nan],\n",
       "        [1095.565  , 1108.2545 ,  951.2874 , ...,  969.3137 ,\n",
       "          872.88214,        nan],\n",
       "        ...,\n",
       "        [ 912.3322 ,  978.85504,  975.65485, ...,  696.3287 ,\n",
       "          824.7724 ,        nan],\n",
       "        [ 896.9661 ,  849.21466,  910.33484, ...,  807.9351 ,\n",
       "         1009.61206,        nan],\n",
       "        [       nan,        nan,        nan, ...,        nan,\n",
       "                nan,        nan]],\n",
       "\n",
       "       [[1018.8706 ,  911.4884 ,  983.392  , ..., 1096.754  ,\n",
       "         1230.9089 ,        nan],\n",
       "        [ 875.61444,  638.8526 ,  772.423  , ..., 1251.1017 ,\n",
       "         1381.2374 ,        nan],\n",
       "        [ 853.7046 ,  674.4794 ,  799.2842 , ..., 1555.3298 ,\n",
       "         1347.2455 ,        nan],\n",
       "        ...,\n",
       "        [       nan,  955.63934,  916.07104, ...,  769.6274 ,\n",
       "          985.5691 ,        nan],\n",
       "        [       nan,  949.2123 ,  999.3244 , ...,  597.674  ,\n",
       "          711.1444 ,        nan],\n",
       "        [       nan,        nan,        nan, ...,        nan,\n",
       "                nan,        nan]],\n",
       "\n",
       "       ...,\n",
       "\n",
       "       [[       nan,        nan,        nan, ..., 1694.102  ,\n",
       "         1402.7144 ,        nan],\n",
       "        [       nan, 1405.6698 , 1489.0784 , ..., 1951.4656 ,\n",
       "         1941.9642 ,        nan],\n",
       "        [       nan, 1620.4346 , 1430.2234 , ..., 1767.7377 ,\n",
       "         1644.234  ,        nan],\n",
       "        ...,\n",
       "        [       nan,  896.76013,  650.46936, ...,  911.49963,\n",
       "         1063.2849 , 1311.8296 ],\n",
       "        [       nan,  921.59955,  660.71796, ...,  982.00885,\n",
       "         1191.8545 , 1017.58856],\n",
       "        [       nan,        nan,        nan, ...,        nan,\n",
       "                nan,        nan]],\n",
       "\n",
       "       [[       nan,        nan,        nan, ..., 1455.5111 ,\n",
       "         1275.3466 ,        nan],\n",
       "        [1839.8086 , 1830.5144 , 1478.3225 , ..., 2262.2095 ,\n",
       "         2306.2195 ,        nan],\n",
       "        [1480.6229 , 1329.4347 , 1194.6606 , ..., 2009.8728 ,\n",
       "         2008.0087 ,        nan],\n",
       "        ...,\n",
       "        [1004.82733, 1133.7739 ,  995.07935, ..., 1286.6654 ,\n",
       "         1288.1495 , 1273.5737 ],\n",
       "        [ 894.9514 ,  885.70337, 1005.4435 , ...,  886.007  ,\n",
       "          973.6025 ,  998.5441 ],\n",
       "        [       nan,        nan,        nan, ..., 1104.3752 ,\n",
       "         1250.4584 , 1158.7821 ]],\n",
       "\n",
       "       [[       nan,        nan,        nan, ...,        nan,\n",
       "                nan,        nan],\n",
       "        [       nan, 1352.6691 , 1618.7164 , ..., 1936.8837 ,\n",
       "         1600.6047 ,        nan],\n",
       "        [       nan, 1315.306  , 1337.4012 , ..., 1617.2673 ,\n",
       "         1610.1733 ,        nan],\n",
       "        ...,\n",
       "        [       nan, 1058.498  , 1021.2229 , ...,  846.72186,\n",
       "          828.1337 ,  963.61945],\n",
       "        [       nan, 1122.8137 ,  914.69385, ...,  788.511  ,\n",
       "          987.1531 , 1115.6343 ],\n",
       "        [       nan,        nan,        nan, ..., 1154.3948 ,\n",
       "         1268.2144 , 1419.92   ]]], dtype=float32)"
      ]
     },
     "execution_count": 5,
     "metadata": {},
     "output_type": "execute_result"
    }
   ],
   "source": [
    "cm.load('../example_movies/mc_rig_d1_54_d2_72_d3_1_order_C_frames_2000_.mmap')"
   ]
  },
  {
   "cell_type": "markdown",
   "metadata": {
    "extensions": {
     "jupyter_dashboards": {
      "version": 1,
      "views": {
       "grid_default": {},
       "report_default": {
        "hidden": false
       }
      }
     }
    }
   },
   "source": [
    "### Notes"
   ]
  },
  {
   "cell_type": "markdown",
   "metadata": {
    "extensions": {
     "jupyter_dashboards": {
      "version": 1,
      "views": {
       "grid_default": {},
       "report_default": {
        "hidden": false
       }
      }
     }
    }
   },
   "source": [
    "##### Motion Correction Parameters:\n",
    "- Grouped?  If your folder contains movies from the _same_ experiment, i.e. if your recording software produces multiple segments of a single recording, then select \"Group\" so these will be combined in the analysis to a single movie. If your folder contains movies from different recordings, select \"Independent\" so they will be run separately.\n",
    "- Downsample factors are percentages from 0 to 1. If you enter 0.5 for height and width, then the movie resolution will be halved. E.g. if you have a 500px by 500px movie, it will be downsampled to 250px by 250px. You can also downsample in the time domain, i.e. if your movie has 1000 frames, entering 0.5 will downsample the frames to 500 frames. This should only be done if you're recording at a high frame rate.\n",
    "- \"High Pass\" setting should be left at default value.\n",
    "- Motion Correction has two modes: rigid and non-rigid. Rigid is much faster. Non-rigid should be used when the movie has non-rigid (elastic) motions/deformations. This can sometimes happen given with _in vivo_ brain recordings since the brain is an elastic organ.\n",
    "- MC Results: This section is under development. Currently you can only view a side-by-side of the original movie with the motion corrected movie. The movies will pop-up in a separate window. Press the __Q__ key on your keyboard to close the movie window.\n",
    "\n",
    "##### CNMF-E Parameters:\n",
    "- Patches? CNMF-E can run in two modes: patches or single field of view (FOV). Patches mode will break up each frame into multiple pieces and process them independently. On computers with multiple processors, this can be much faster. However, patches mode can produce unwanted reconstruction artifacts when the pieces are poorly re-assembled.\n",
    "- You can downsample in the CNMF-E stage, spatially (height and width) and temporally (frames/time). However, if you already downsampled during motion correction, you probably should not downsample again.\n",
    "- __K__: K is the estimated number of neurons in your field of view. This parameter helps the algorithm detect the correct number of neurons. It does not need to be highly accurate; an over-estimate is better.\n",
    "- __gSig__: This is the estimated half-width (radius) of each neuron in the movie, in pixel values. The default value will work in most cases.\n",
    "- __gSiz__: This is related to gSig and typically the default value will work fine.\n",
    "\n",
    "##### CNMF-E Results Viewer\n",
    "- This interface allows you to look at a \"Z-projection\" (i.e. flattened video) of the data to see how well the CNMF-E algorithm did at detecting neurons and avoiding noise. In the top left is a the Z-projected image with red dots denoting the neurons it detected. \n",
    "- In general, CNMF-E _will_ think some noise is a neuron. In that case, you need to look through the traces and at the image panels to see which cells are noise and press the `Delete ROI` button. This will not modify the `context`. This just excludes those ROIs if you download the data as a file.\n",
    "- Check the `Use dF/F` checkbox if you want to convert the signals to delta fluorescence / fluorescence. This is a necessary step if you want to be able to compare the signals between animals and recording sessions."
   ]
  },
  {
   "cell_type": "code",
   "execution_count": 3,
   "metadata": {
    "extensions": {
     "jupyter_dashboards": {
      "version": 1,
      "views": {
       "grid_default": {},
       "report_default": {
        "hidden": true
       }
      }
     }
    }
   },
   "outputs": [],
   "source": [
    "#clean_up(stop_server=True)"
   ]
  }
 ],
 "metadata": {
  "anaconda-cloud": {},
  "extensions": {
   "jupyter_dashboards": {
    "activeView": "report_default",
    "version": 1,
    "views": {
     "grid_default": {
      "cellMargin": 10,
      "defaultCellHeight": 20,
      "maxColumns": 12,
      "name": "grid",
      "type": "grid"
     },
     "report_default": {
      "name": "report",
      "type": "report"
     }
    }
   }
  },
  "kernelspec": {
   "display_name": "Python [conda env:caiman]",
   "language": "python",
   "name": "conda-env-caiman-py"
  },
  "language_info": {
   "codemirror_mode": {
    "name": "ipython",
    "version": 3
   },
   "file_extension": ".py",
   "mimetype": "text/x-python",
   "name": "python",
   "nbconvert_exporter": "python",
   "pygments_lexer": "ipython3",
   "version": "3.6.5"
  }
 },
 "nbformat": 4,
 "nbformat_minor": 2
}
