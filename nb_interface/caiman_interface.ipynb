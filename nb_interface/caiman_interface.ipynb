{
 "cells": [
  {
   "cell_type": "code",
   "execution_count": 1,
   "metadata": {
    "extensions": {
     "jupyter_dashboards": {
      "version": 1,
      "views": {
       "grid_default": {
        "hidden": true
       },
       "report_default": {
        "hidden": true
       }
      }
     }
    },
    "nbpresent": {
     "id": "790f1d6b-6a21-4009-85ef-31964fcfa7b1"
    }
   },
   "outputs": [],
   "source": [
    "import sys\n",
    "sys.path.append('src/')\n",
    "from caiman_interface import *"
   ]
  },
  {
   "cell_type": "markdown",
   "metadata": {
    "extensions": {
     "jupyter_dashboards": {
      "version": 1,
      "views": {
       "grid_default": {
        "col": 0,
        "height": 2,
        "hidden": false,
        "row": 0,
        "width": 12
       },
       "report_default": {
        "hidden": false
       }
      }
     }
    }
   },
   "source": [
    "# <em>Ca</em><font color=\"grey\">lcium</font> <em>Im</em><font color=\"grey\">aging</font> <em>An</em><font color=\"grey\">alysis</font>\n",
    "### Jupyter Notebook Interface (alpha version)"
   ]
  },
  {
   "cell_type": "markdown",
   "metadata": {
    "extensions": {
     "jupyter_dashboards": {
      "version": 1,
      "views": {
       "grid_default": {},
       "report_default": {
        "hidden": false
       }
      }
     }
    }
   },
   "source": [
    "##### Manage Context\n",
    "The context is the data that is saved during each step of the analysis. You can save all of your work as a `context` file with the extension `.pkl`. For example, if you finish the CNMF-E analysis step, you can save your context, and then re-load it later to view the results interactively here. Please note the context files are large, so only save if necessary."
   ]
  },
  {
   "cell_type": "code",
   "execution_count": 2,
   "metadata": {
    "scrolled": false
   },
   "outputs": [
    {
     "data": {
      "application/vnd.jupyter.widget-view+json": {
       "model_id": "1a91ac37c28444078cb25e47161b55a7",
       "version_major": 2,
       "version_minor": 0
      },
      "text/plain": [
       "VBox(children=(HTML(value='Idle', description='<b>Status:</b>', layout=Layout(width='90%')), Tab(children=(VBo…"
      ]
     },
     "metadata": {},
     "output_type": "display_data"
    }
   ],
   "source": [
    "%matplotlib qt\n",
    "display(app_ui)"
   ]
  },
  {
   "cell_type": "code",
   "execution_count": 3,
   "metadata": {},
   "outputs": [
    {
     "name": "stderr",
     "output_type": "stream",
     "text": [
      "WARNING:root:NOT setting value of key splits_rig in group data, because no prior key existed...\n",
      "WARNING:root:NOT setting value of key strides in group data, because no prior key existed...\n",
      "WARNING:root:NOT setting value of key overlaps in group data, because no prior key existed...\n",
      "WARNING:root:NOT setting value of key max_shifts in group data, because no prior key existed...\n",
      "WARNING:root:NOT setting value of key max_deviation_rigid in group data, because no prior key existed...\n",
      "WARNING:root:NOT setting value of key pw_rigid in group data, because no prior key existed...\n",
      "WARNING:root:NOT setting value of key p in group data, because no prior key existed...\n",
      "WARNING:root:NOT setting value of key nb in group data, because no prior key existed...\n",
      "WARNING:root:NOT setting value of key rf in group data, because no prior key existed...\n",
      "WARNING:root:NOT setting value of key K in group data, because no prior key existed...\n",
      "WARNING:root:NOT setting value of key stride in group data, because no prior key existed...\n",
      "WARNING:root:NOT setting value of key method_init in group data, because no prior key existed...\n",
      "WARNING:root:NOT setting value of key rolling_sum in group data, because no prior key existed...\n",
      "WARNING:root:NOT setting value of key is_dendrites in group data, because no prior key existed...\n",
      "WARNING:root:NOT setting value of key min_SNR in group data, because no prior key existed...\n",
      "WARNING:root:NOT setting value of key rval_thr in group data, because no prior key existed...\n",
      "WARNING:root:NOT setting value of key use_cnn in group data, because no prior key existed...\n",
      "WARNING:root:NOT setting value of key min_cnn_thr in group data, because no prior key existed...\n",
      "WARNING:root:NOT setting value of key fr in group patch, because no prior key existed...\n",
      "WARNING:root:NOT setting value of key decay_time in group patch, because no prior key existed...\n",
      "WARNING:root:NOT setting value of key splits_rig in group patch, because no prior key existed...\n",
      "WARNING:root:NOT setting value of key strides in group patch, because no prior key existed...\n",
      "WARNING:root:NOT setting value of key overlaps in group patch, because no prior key existed...\n",
      "WARNING:root:NOT setting value of key max_shifts in group patch, because no prior key existed...\n",
      "WARNING:root:NOT setting value of key max_deviation_rigid in group patch, because no prior key existed...\n",
      "WARNING:root:NOT setting value of key pw_rigid in group patch, because no prior key existed...\n",
      "WARNING:root:NOT setting value of key p in group patch, because no prior key existed...\n",
      "WARNING:root:NOT setting value of key nb in group patch, because no prior key existed...\n",
      "WARNING:root:Changing key rf in group patch from None to 15\n",
      "WARNING:root:NOT setting value of key K in group patch, because no prior key existed...\n",
      "WARNING:root:Changing key stride in group patch from None to 6\n",
      "WARNING:root:NOT setting value of key method_init in group patch, because no prior key existed...\n",
      "WARNING:root:NOT setting value of key rolling_sum in group patch, because no prior key existed...\n",
      "WARNING:root:NOT setting value of key is_dendrites in group patch, because no prior key existed...\n",
      "WARNING:root:NOT setting value of key min_SNR in group patch, because no prior key existed...\n",
      "WARNING:root:NOT setting value of key rval_thr in group patch, because no prior key existed...\n",
      "WARNING:root:NOT setting value of key use_cnn in group patch, because no prior key existed...\n",
      "WARNING:root:NOT setting value of key min_cnn_thr in group patch, because no prior key existed...\n",
      "WARNING:root:NOT setting value of key fr in group preprocess, because no prior key existed...\n",
      "WARNING:root:NOT setting value of key decay_time in group preprocess, because no prior key existed...\n",
      "WARNING:root:NOT setting value of key splits_rig in group preprocess, because no prior key existed...\n",
      "WARNING:root:NOT setting value of key strides in group preprocess, because no prior key existed...\n",
      "WARNING:root:NOT setting value of key overlaps in group preprocess, because no prior key existed...\n",
      "WARNING:root:NOT setting value of key max_shifts in group preprocess, because no prior key existed...\n",
      "WARNING:root:NOT setting value of key max_deviation_rigid in group preprocess, because no prior key existed...\n",
      "WARNING:root:NOT setting value of key pw_rigid in group preprocess, because no prior key existed...\n",
      "WARNING:root:Changing key p in group preprocess from 2 to 1\n",
      "WARNING:root:NOT setting value of key nb in group preprocess, because no prior key existed...\n",
      "WARNING:root:NOT setting value of key rf in group preprocess, because no prior key existed...\n",
      "WARNING:root:NOT setting value of key K in group preprocess, because no prior key existed...\n",
      "WARNING:root:NOT setting value of key stride in group preprocess, because no prior key existed...\n",
      "WARNING:root:NOT setting value of key method_init in group preprocess, because no prior key existed...\n",
      "WARNING:root:NOT setting value of key rolling_sum in group preprocess, because no prior key existed...\n",
      "WARNING:root:NOT setting value of key is_dendrites in group preprocess, because no prior key existed...\n",
      "WARNING:root:NOT setting value of key min_SNR in group preprocess, because no prior key existed...\n",
      "WARNING:root:NOT setting value of key rval_thr in group preprocess, because no prior key existed...\n",
      "WARNING:root:NOT setting value of key use_cnn in group preprocess, because no prior key existed...\n",
      "WARNING:root:NOT setting value of key min_cnn_thr in group preprocess, because no prior key existed...\n",
      "WARNING:root:NOT setting value of key fr in group init, because no prior key existed...\n",
      "WARNING:root:NOT setting value of key decay_time in group init, because no prior key existed...\n",
      "WARNING:root:NOT setting value of key splits_rig in group init, because no prior key existed...\n",
      "WARNING:root:NOT setting value of key strides in group init, because no prior key existed...\n",
      "WARNING:root:NOT setting value of key overlaps in group init, because no prior key existed...\n",
      "WARNING:root:NOT setting value of key max_shifts in group init, because no prior key existed...\n",
      "WARNING:root:NOT setting value of key max_deviation_rigid in group init, because no prior key existed...\n",
      "WARNING:root:NOT setting value of key pw_rigid in group init, because no prior key existed...\n",
      "WARNING:root:NOT setting value of key p in group init, because no prior key existed...\n",
      "WARNING:root:Changing key nb in group init from 1 to 2\n",
      "WARNING:root:NOT setting value of key rf in group init, because no prior key existed...\n",
      "WARNING:root:Changing key K in group init from 30 to 4\n",
      "WARNING:root:NOT setting value of key stride in group init, because no prior key existed...\n",
      "WARNING:root:NOT setting value of key is_dendrites in group init, because no prior key existed...\n",
      "WARNING:root:NOT setting value of key min_SNR in group init, because no prior key existed...\n",
      "WARNING:root:NOT setting value of key rval_thr in group init, because no prior key existed...\n",
      "WARNING:root:NOT setting value of key use_cnn in group init, because no prior key existed...\n",
      "WARNING:root:NOT setting value of key min_cnn_thr in group init, because no prior key existed...\n",
      "WARNING:root:NOT setting value of key fr in group spatial, because no prior key existed...\n",
      "WARNING:root:NOT setting value of key decay_time in group spatial, because no prior key existed...\n",
      "WARNING:root:NOT setting value of key splits_rig in group spatial, because no prior key existed...\n",
      "WARNING:root:NOT setting value of key strides in group spatial, because no prior key existed...\n",
      "WARNING:root:NOT setting value of key overlaps in group spatial, because no prior key existed...\n",
      "WARNING:root:NOT setting value of key max_shifts in group spatial, because no prior key existed...\n",
      "WARNING:root:NOT setting value of key max_deviation_rigid in group spatial, because no prior key existed...\n",
      "WARNING:root:NOT setting value of key pw_rigid in group spatial, because no prior key existed...\n",
      "WARNING:root:NOT setting value of key p in group spatial, because no prior key existed...\n",
      "WARNING:root:Changing key nb in group spatial from 1 to 2\n",
      "WARNING:root:NOT setting value of key rf in group spatial, because no prior key existed...\n",
      "WARNING:root:NOT setting value of key K in group spatial, because no prior key existed...\n"
     ]
    },
    {
     "name": "stderr",
     "output_type": "stream",
     "text": [
      "WARNING:root:NOT setting value of key stride in group spatial, because no prior key existed...\n",
      "WARNING:root:NOT setting value of key method_init in group spatial, because no prior key existed...\n",
      "WARNING:root:NOT setting value of key rolling_sum in group spatial, because no prior key existed...\n",
      "WARNING:root:NOT setting value of key is_dendrites in group spatial, because no prior key existed...\n",
      "WARNING:root:NOT setting value of key min_SNR in group spatial, because no prior key existed...\n",
      "WARNING:root:NOT setting value of key rval_thr in group spatial, because no prior key existed...\n",
      "WARNING:root:NOT setting value of key use_cnn in group spatial, because no prior key existed...\n",
      "WARNING:root:NOT setting value of key min_cnn_thr in group spatial, because no prior key existed...\n",
      "WARNING:root:NOT setting value of key fr in group temporal, because no prior key existed...\n",
      "WARNING:root:NOT setting value of key decay_time in group temporal, because no prior key existed...\n",
      "WARNING:root:NOT setting value of key splits_rig in group temporal, because no prior key existed...\n",
      "WARNING:root:NOT setting value of key strides in group temporal, because no prior key existed...\n",
      "WARNING:root:NOT setting value of key overlaps in group temporal, because no prior key existed...\n",
      "WARNING:root:NOT setting value of key max_shifts in group temporal, because no prior key existed...\n",
      "WARNING:root:NOT setting value of key max_deviation_rigid in group temporal, because no prior key existed...\n",
      "WARNING:root:NOT setting value of key pw_rigid in group temporal, because no prior key existed...\n",
      "WARNING:root:Changing key p in group temporal from 2 to 1\n",
      "WARNING:root:Changing key nb in group temporal from 1 to 2\n",
      "WARNING:root:NOT setting value of key rf in group temporal, because no prior key existed...\n",
      "WARNING:root:NOT setting value of key K in group temporal, because no prior key existed...\n",
      "WARNING:root:NOT setting value of key stride in group temporal, because no prior key existed...\n",
      "WARNING:root:NOT setting value of key method_init in group temporal, because no prior key existed...\n",
      "WARNING:root:NOT setting value of key rolling_sum in group temporal, because no prior key existed...\n",
      "WARNING:root:NOT setting value of key is_dendrites in group temporal, because no prior key existed...\n",
      "WARNING:root:NOT setting value of key min_SNR in group temporal, because no prior key existed...\n",
      "WARNING:root:NOT setting value of key rval_thr in group temporal, because no prior key existed...\n",
      "WARNING:root:NOT setting value of key use_cnn in group temporal, because no prior key existed...\n",
      "WARNING:root:NOT setting value of key min_cnn_thr in group temporal, because no prior key existed...\n",
      "WARNING:root:NOT setting value of key fr in group merging, because no prior key existed...\n",
      "WARNING:root:NOT setting value of key decay_time in group merging, because no prior key existed...\n",
      "WARNING:root:NOT setting value of key splits_rig in group merging, because no prior key existed...\n",
      "WARNING:root:NOT setting value of key strides in group merging, because no prior key existed...\n",
      "WARNING:root:NOT setting value of key overlaps in group merging, because no prior key existed...\n",
      "WARNING:root:NOT setting value of key max_shifts in group merging, because no prior key existed...\n",
      "WARNING:root:NOT setting value of key max_deviation_rigid in group merging, because no prior key existed...\n",
      "WARNING:root:NOT setting value of key pw_rigid in group merging, because no prior key existed...\n",
      "WARNING:root:NOT setting value of key p in group merging, because no prior key existed...\n",
      "WARNING:root:NOT setting value of key nb in group merging, because no prior key existed...\n",
      "WARNING:root:NOT setting value of key rf in group merging, because no prior key existed...\n",
      "WARNING:root:NOT setting value of key K in group merging, because no prior key existed...\n",
      "WARNING:root:NOT setting value of key stride in group merging, because no prior key existed...\n",
      "WARNING:root:NOT setting value of key method_init in group merging, because no prior key existed...\n",
      "WARNING:root:NOT setting value of key rolling_sum in group merging, because no prior key existed...\n",
      "WARNING:root:NOT setting value of key is_dendrites in group merging, because no prior key existed...\n",
      "WARNING:root:NOT setting value of key min_SNR in group merging, because no prior key existed...\n",
      "WARNING:root:NOT setting value of key rval_thr in group merging, because no prior key existed...\n",
      "WARNING:root:NOT setting value of key use_cnn in group merging, because no prior key existed...\n",
      "WARNING:root:NOT setting value of key min_cnn_thr in group merging, because no prior key existed...\n",
      "WARNING:root:NOT setting value of key fr in group quality, because no prior key existed...\n",
      "WARNING:root:NOT setting value of key decay_time in group quality, because no prior key existed...\n",
      "WARNING:root:NOT setting value of key splits_rig in group quality, because no prior key existed...\n",
      "WARNING:root:NOT setting value of key strides in group quality, because no prior key existed...\n",
      "WARNING:root:NOT setting value of key overlaps in group quality, because no prior key existed...\n",
      "WARNING:root:NOT setting value of key max_shifts in group quality, because no prior key existed...\n",
      "WARNING:root:NOT setting value of key max_deviation_rigid in group quality, because no prior key existed...\n",
      "WARNING:root:NOT setting value of key pw_rigid in group quality, because no prior key existed...\n",
      "WARNING:root:NOT setting value of key p in group quality, because no prior key existed...\n",
      "WARNING:root:NOT setting value of key nb in group quality, because no prior key existed...\n",
      "WARNING:root:NOT setting value of key rf in group quality, because no prior key existed...\n",
      "WARNING:root:NOT setting value of key K in group quality, because no prior key existed...\n",
      "WARNING:root:NOT setting value of key stride in group quality, because no prior key existed...\n",
      "WARNING:root:NOT setting value of key method_init in group quality, because no prior key existed...\n",
      "WARNING:root:NOT setting value of key rolling_sum in group quality, because no prior key existed...\n",
      "WARNING:root:NOT setting value of key is_dendrites in group quality, because no prior key existed...\n",
      "WARNING:root:Changing key min_SNR in group quality from 2.5 to 2.0\n",
      "WARNING:root:Changing key rval_thr in group quality from 0.8 to 0.7\n",
      "WARNING:root:Changing key use_cnn in group quality from True to False\n",
      "WARNING:root:Changing key min_cnn_thr in group quality from 0.9 to 0.7\n",
      "WARNING:root:NOT setting value of key fr in group online, because no prior key existed...\n",
      "WARNING:root:NOT setting value of key decay_time in group online, because no prior key existed...\n",
      "WARNING:root:NOT setting value of key splits_rig in group online, because no prior key existed...\n",
      "WARNING:root:NOT setting value of key strides in group online, because no prior key existed...\n",
      "WARNING:root:NOT setting value of key overlaps in group online, because no prior key existed...\n",
      "WARNING:root:NOT setting value of key max_shifts in group online, because no prior key existed...\n",
      "WARNING:root:NOT setting value of key max_deviation_rigid in group online, because no prior key existed...\n",
      "WARNING:root:NOT setting value of key pw_rigid in group online, because no prior key existed...\n",
      "WARNING:root:NOT setting value of key p in group online, because no prior key existed...\n",
      "WARNING:root:NOT setting value of key nb in group online, because no prior key existed...\n",
      "WARNING:root:NOT setting value of key rf in group online, because no prior key existed...\n",
      "WARNING:root:NOT setting value of key K in group online, because no prior key existed...\n",
      "WARNING:root:NOT setting value of key stride in group online, because no prior key existed...\n",
      "WARNING:root:NOT setting value of key method_init in group online, because no prior key existed...\n",
      "WARNING:root:NOT setting value of key rolling_sum in group online, because no prior key existed...\n",
      "WARNING:root:NOT setting value of key is_dendrites in group online, because no prior key existed...\n",
      "WARNING:root:Changing key min_SNR in group online from 2.5 to 2.0\n",
      "WARNING:root:Changing key rval_thr in group online from 0.8 to 0.7\n",
      "WARNING:root:NOT setting value of key use_cnn in group online, because no prior key existed...\n",
      "WARNING:root:NOT setting value of key min_cnn_thr in group online, because no prior key existed...\n"
     ]
    },
    {
     "name": "stderr",
     "output_type": "stream",
     "text": [
      "WARNING:root:NOT setting value of key fr in group motion, because no prior key existed...\n",
      "WARNING:root:NOT setting value of key decay_time in group motion, because no prior key existed...\n",
      "WARNING:root:Changing key splits_rig in group motion from 14 to 56\n",
      "WARNING:root:Changing key strides in group motion from (96, 96) to (48, 48)\n",
      "WARNING:root:Changing key overlaps in group motion from (32, 32) to (24, 24)\n",
      "WARNING:root:Changing key pw_rigid in group motion from False to True\n",
      "WARNING:root:NOT setting value of key p in group motion, because no prior key existed...\n",
      "WARNING:root:NOT setting value of key nb in group motion, because no prior key existed...\n",
      "WARNING:root:NOT setting value of key rf in group motion, because no prior key existed...\n",
      "WARNING:root:NOT setting value of key K in group motion, because no prior key existed...\n",
      "WARNING:root:NOT setting value of key stride in group motion, because no prior key existed...\n",
      "WARNING:root:NOT setting value of key method_init in group motion, because no prior key existed...\n",
      "WARNING:root:NOT setting value of key rolling_sum in group motion, because no prior key existed...\n",
      "WARNING:root:NOT setting value of key is_dendrites in group motion, because no prior key existed...\n",
      "WARNING:root:NOT setting value of key min_SNR in group motion, because no prior key existed...\n",
      "WARNING:root:NOT setting value of key rval_thr in group motion, because no prior key existed...\n",
      "WARNING:root:NOT setting value of key use_cnn in group motion, because no prior key existed...\n",
      "WARNING:root:NOT setting value of key min_cnn_thr in group motion, because no prior key existed...\n",
      "WARNING:root:Changing key p in group temporal from 1 to 0\n"
     ]
    },
    {
     "ename": "AttributeError",
     "evalue": "'NoneType' object has no attribute 'estimates'",
     "output_type": "error",
     "traceback": [
      "\u001b[0;31m---------------------------------------------------------------------------\u001b[0m",
      "\u001b[0;31mAttributeError\u001b[0m                            Traceback (most recent call last)",
      "\u001b[0;32m<ipython-input-3-4dcd9527a9d6>\u001b[0m in \u001b[0;36m<module>\u001b[0;34m()\u001b[0m\n\u001b[1;32m     48\u001b[0m \u001b[0mopts\u001b[0m \u001b[0;34m=\u001b[0m \u001b[0mparams\u001b[0m\u001b[0;34m.\u001b[0m\u001b[0mCNMFParams\u001b[0m\u001b[0;34m(\u001b[0m\u001b[0mparams_dict\u001b[0m\u001b[0;34m=\u001b[0m\u001b[0mopts_dict\u001b[0m\u001b[0;34m)\u001b[0m\u001b[0;34m\u001b[0m\u001b[0m\n\u001b[1;32m     49\u001b[0m \u001b[0mopts\u001b[0m\u001b[0;34m.\u001b[0m\u001b[0mset\u001b[0m\u001b[0;34m(\u001b[0m\u001b[0;34m'temporal'\u001b[0m\u001b[0;34m,\u001b[0m \u001b[0;34m{\u001b[0m\u001b[0;34m'p'\u001b[0m\u001b[0;34m:\u001b[0m \u001b[0;36m0\u001b[0m\u001b[0;34m}\u001b[0m\u001b[0;34m)\u001b[0m\u001b[0;34m\u001b[0m\u001b[0m\n\u001b[0;32m---> 50\u001b[0;31m \u001b[0mcontext\u001b[0m\u001b[0;34m.\u001b[0m\u001b[0mcnm\u001b[0m\u001b[0;34m.\u001b[0m\u001b[0mestimates\u001b[0m\u001b[0;34m.\u001b[0m\u001b[0mfilter_components\u001b[0m\u001b[0;34m(\u001b[0m\u001b[0mreshape_Yr\u001b[0m\u001b[0;34m(\u001b[0m\u001b[0;34m*\u001b[0m\u001b[0mcontext\u001b[0m\u001b[0;34m.\u001b[0m\u001b[0mYrDT\u001b[0m\u001b[0;34m)\u001b[0m\u001b[0;34m,\u001b[0m \u001b[0mparams\u001b[0m\u001b[0;34m=\u001b[0m\u001b[0mopts\u001b[0m\u001b[0;34m)\u001b[0m\u001b[0;34m\u001b[0m\u001b[0m\n\u001b[0m",
      "\u001b[0;31mAttributeError\u001b[0m: 'NoneType' object has no attribute 'estimates'"
     ]
    }
   ],
   "source": [
    "fr = 30                             # imaging rate in frames per second\n",
    "decay_time = 0.4                    # length of a typical transient in seconds\n",
    "\n",
    "# motion correction parameters\n",
    "splits_rig = 56             # for parallelization split the movies in  num_splits chuncks across time\n",
    "strides = (48, 48)          # start a new patch for pw-rigid motion correction every x pixels\n",
    "overlaps = (24, 24)         # overlap between pathes (size of patch strides+overlaps)\n",
    "max_shifts = (6,6)          # maximum allowed rigid shifts (in pixels)\n",
    "max_deviation_rigid = 3     # maximum shifts deviation allowed for patch with respect to rigid shifts\n",
    "pw_rigid = True             # flag for performing non-rigid motion correction\n",
    "\n",
    "# parameters for source extraction and deconvolution\n",
    "p = 1                       # order of the autoregressive system\n",
    "gnb = 2                     # number of global background components\n",
    "merge_thresh = 0.8          # merging threshold, max correlation allowed\n",
    "rf = 15                     # half-size of the patches in pixels. e.g., if rf=25, patches are 50x50\n",
    "stride_cnmf = 6             # amount of overlap between the patches in pixels\n",
    "K = 4                       # number of components per patch\n",
    "gSig = [4, 4]               # expected half size of neurons\n",
    "method_init = 'greedy_roi'  # initialization method (if analyzing dendritic data using 'sparse_nmf')\n",
    "is_dendrites = False        # flag for analyzing dendritic data\n",
    "\n",
    "# parameters for component evaluation\n",
    "min_SNR = 2.0               # signal to noise ratio for accepting a component\n",
    "rval_thr = 0.7              # space correlation threshold for accepting a component\n",
    "cnn_thr = 0.7               # threshold for CNN based classifier\n",
    "opts_dict = {\n",
    "            'fr': fr,\n",
    "            'decay_time': decay_time,\n",
    "            'splits_rig': splits_rig,\n",
    "            'strides': strides,\n",
    "            'overlaps': overlaps,\n",
    "            'max_shifts': max_shifts,\n",
    "            'max_deviation_rigid': max_deviation_rigid,\n",
    "            'pw_rigid': pw_rigid,\n",
    "            'p': 1,\n",
    "            'nb': gnb,\n",
    "            'rf': rf,\n",
    "            'K': K, \n",
    "            'stride': stride_cnmf,\n",
    "            'method_init': method_init,\n",
    "            'rolling_sum': True,\n",
    "            'is_dendrites': is_dendrites,\n",
    "            'min_SNR': min_SNR,\n",
    "            'rval_thr': rval_thr,\n",
    "            'use_cnn': False,\n",
    "            'min_cnn_thr': cnn_thr}\n",
    "opts = params.CNMFParams(params_dict=opts_dict)\n",
    "opts.set('temporal', {'p': 0})\n",
    "context.cnm.estimates.filter_components(reshape_Yr(*context.YrDT), params=opts)"
   ]
  },
  {
   "cell_type": "markdown",
   "metadata": {
    "extensions": {
     "jupyter_dashboards": {
      "version": 1,
      "views": {
       "grid_default": {},
       "report_default": {
        "hidden": false
       }
      }
     }
    }
   },
   "source": [
    "### Notes"
   ]
  },
  {
   "cell_type": "markdown",
   "metadata": {
    "extensions": {
     "jupyter_dashboards": {
      "version": 1,
      "views": {
       "grid_default": {},
       "report_default": {
        "hidden": false
       }
      }
     }
    }
   },
   "source": [
    "##### Motion Correction Parameters:\n",
    "- Grouped?  If your folder contains movies from the _same_ experiment, i.e. if your recording software produces multiple segments of a single recording, then select \"Group\" so these will be combined in the analysis to a single movie. If your folder contains movies from different recordings, select \"Independent\" so they will be run separately.\n",
    "- Downsample factors are percentages from 0 to 1. If you enter 0.5 for height and width, then the movie resolution will be halved. E.g. if you have a 500px by 500px movie, it will be downsampled to 250px by 250px. You can also downsample in the time domain, i.e. if your movie has 1000 frames, entering 0.5 will downsample the frames to 500 frames. This should only be done if you're recording at a high frame rate.\n",
    "- \"High Pass\" setting should be left at default value.\n",
    "- Motion Correction has two modes: rigid and non-rigid. Rigid is much faster. Non-rigid should be used when the movie has non-rigid (elastic) motions/deformations. This can sometimes happen given with _in vivo_ brain recordings since the brain is an elastic organ.\n",
    "- MC Results: This section is under development. Currently you can only view a side-by-side of the original movie with the motion corrected movie. The movies will pop-up in a separate window. Press the __Q__ key on your keyboard to close the movie window.\n",
    "\n",
    "##### CNMF-E Parameters:\n",
    "- Patches? CNMF-E can run in two modes: patches or single field of view (FOV). Patches mode will break up each frame into multiple pieces and process them independently. On computers with multiple processors, this can be much faster. However, patches mode can produce unwanted reconstruction artifacts when the pieces are poorly re-assembled.\n",
    "- You can downsample in the CNMF-E stage, spatially (height and width) and temporally (frames/time). However, if you already downsampled during motion correction, you probably should not downsample again.\n",
    "- __K__: K is the estimated number of neurons in your field of view. This parameter helps the algorithm detect the correct number of neurons. It does not need to be highly accurate; an over-estimate is better.\n",
    "- __gSig__: This is the estimated half-width (radius) of each neuron in the movie, in pixel values. The default value will work in most cases.\n",
    "- __gSiz__: This is related to gSig and typically the default value will work fine.\n",
    "\n",
    "##### CNMF-E Results Viewer\n",
    "- This interface allows you to look at a \"Z-projection\" (i.e. flattened video) of the data to see how well the CNMF-E algorithm did at detecting neurons and avoiding noise. In the top left is a the Z-projected image with red dots denoting the neurons it detected. \n",
    "- In general, CNMF-E _will_ think some noise is a neuron. In that case, you need to look through the traces and at the image panels to see which cells are noise and press the `Delete ROI` button. This will not modify the `context`. This just excludes those ROIs if you download the data as a file.\n",
    "- Check the `Use dF/F` checkbox if you want to convert the signals to delta fluorescence / fluorescence. This is a necessary step if you want to be able to compare the signals between animals and recording sessions."
   ]
  },
  {
   "cell_type": "code",
   "execution_count": null,
   "metadata": {
    "extensions": {
     "jupyter_dashboards": {
      "version": 1,
      "views": {
       "grid_default": {},
       "report_default": {
        "hidden": true
       }
      }
     }
    }
   },
   "outputs": [],
   "source": [
    "#clean_up(stop_server=True)"
   ]
  }
 ],
 "metadata": {
  "anaconda-cloud": {},
  "extensions": {
   "jupyter_dashboards": {
    "activeView": "report_default",
    "version": 1,
    "views": {
     "grid_default": {
      "cellMargin": 10,
      "defaultCellHeight": 20,
      "maxColumns": 12,
      "name": "grid",
      "type": "grid"
     },
     "report_default": {
      "name": "report",
      "type": "report"
     }
    }
   }
  },
  "kernelspec": {
   "display_name": "Python [conda env:caiman3]",
   "language": "python",
   "name": "conda-env-caiman3-py"
  },
  "language_info": {
   "codemirror_mode": {
    "name": "ipython",
    "version": 3
   },
   "file_extension": ".py",
   "mimetype": "text/x-python",
   "name": "python",
   "nbconvert_exporter": "python",
   "pygments_lexer": "ipython3",
   "version": "3.6.5"
  }
 },
 "nbformat": 4,
 "nbformat_minor": 2
}
